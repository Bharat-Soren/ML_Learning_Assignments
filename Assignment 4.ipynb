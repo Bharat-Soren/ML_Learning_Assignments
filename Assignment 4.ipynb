{
 "cells": [
  {
   "cell_type": "markdown",
   "metadata": {},
   "source": [
    "1.1 Write a Python Program(with class concepts) to find the area of the triangle using the below\n",
    "formula.\n",
    "     area = (s*(s-a)*(s-b)*(s-c)) ** 0.5\n",
    "Function to take the length of the sides of triangle from user should be defined in the parent\n",
    "class and function to calculate the area should be defined in subclass."
   ]
  },
  {
   "cell_type": "code",
   "execution_count": null,
   "metadata": {},
   "outputs": [],
   "source": []
  },
  {
   "cell_type": "markdown",
   "metadata": {},
   "source": [
    "1.2 Write a function filter_long_words() that takes a list of words and an integer n and returns\n",
    "the list of words that are longer than n."
   ]
  },
  {
   "cell_type": "code",
   "execution_count": 12,
   "metadata": {},
   "outputs": [],
   "source": [
    "# def filter_long_words(l_words,n):  #Using Generator \n",
    "#     for i in l_words:\n",
    "#         if len(i)>n:\n",
    "#             yield i  \n",
    "            \n",
    "# def filter_long_words(l_words,n):\n",
    "#     for i in l_words:\n",
    "#         if len(i)>n:\n",
    "#             return True\n",
    "\n",
    "def filter_long_words(l_words,n):\n",
    "    result=[]\n",
    "    for i in l_words:\n",
    "        if len(i)>n:\n",
    "            result.append(i)\n",
    "    return result\n",
    "\n",
    "l=['Bharat','B','BH','Home','Name']            "
   ]
  },
  {
   "cell_type": "code",
   "execution_count": 13,
   "metadata": {},
   "outputs": [
    {
     "data": {
      "text/plain": [
       "['Bharat', 'Home', 'Name']"
      ]
     },
     "execution_count": 13,
     "metadata": {},
     "output_type": "execute_result"
    }
   ],
   "source": [
    "# list(filter_long_words(['Bharat','B','BH','Home','Name'],2)) \n",
    "# list(map(filter_long_words,l,2)) # Using Map function\n",
    "filter_long_words(l,2)"
   ]
  },
  {
   "cell_type": "markdown",
   "metadata": {},
   "source": [
    "2.1 Write a Python program using function concept that maps list of words into a list of integers\n",
    "representing the lengths of the corresponding words.\n",
    "Hint: If a list [ ab,cde,erty] is passed on to the python function output should come as [2,3,4]\n",
    "Here 2,3 and 4 are the lengths of the words in the list."
   ]
  },
  {
   "cell_type": "code",
   "execution_count": 30,
   "metadata": {},
   "outputs": [],
   "source": [
    "# def count_words_list(word_list):\n",
    "#         return len(word_list)\n",
    "\n",
    "        \n",
    "# def count_words_list(word_list):\n",
    "#     re=[]\n",
    "#     for i in word_list:\n",
    "#         re.append(len(i))\n",
    "#     return re\n",
    "\n",
    "def count_words_list(word_list):\n",
    "    for i in word_list:\n",
    "        yield len(i)\n",
    "        "
   ]
  },
  {
   "cell_type": "code",
   "execution_count": 47,
   "metadata": {},
   "outputs": [],
   "source": [
    "wl=['Bharat','sunil','Sonu','Home']\n",
    "# list(map(count_words_list,wl))\n",
    "res=count_words_list(wl)"
   ]
  },
  {
   "cell_type": "code",
   "execution_count": 48,
   "metadata": {},
   "outputs": [
    {
     "data": {
      "text/plain": [
       "[6, 5, 4, 4]"
      ]
     },
     "execution_count": 48,
     "metadata": {},
     "output_type": "execute_result"
    }
   ],
   "source": [
    "# next(res)\n",
    "list(res)"
   ]
  },
  {
   "cell_type": "markdown",
   "metadata": {},
   "source": [
    "2.2 Write a Python function which takes a character (i.e. a string of length 1) and returns True if\n",
    "it is a vowel, False otherwise."
   ]
  },
  {
   "cell_type": "code",
   "execution_count": 54,
   "metadata": {},
   "outputs": [],
   "source": [
    "def check_vowel(char):\n",
    "    if len(char) > 1:\n",
    "        print(\"Enter a Single Characters\")\n",
    "    if char.lower() in ('a','e','i','o','u'):\n",
    "        return True\n",
    "    else:\n",
    "        return False"
   ]
  },
  {
   "cell_type": "code",
   "execution_count": 58,
   "metadata": {},
   "outputs": [
    {
     "name": "stdout",
     "output_type": "stream",
     "text": [
      "True\n"
     ]
    }
   ],
   "source": [
    "print(check_vowel('U'))"
   ]
  }
 ],
 "metadata": {
  "kernelspec": {
   "display_name": "Python 3",
   "language": "python",
   "name": "python3"
  },
  "language_info": {
   "codemirror_mode": {
    "name": "ipython",
    "version": 3
   },
   "file_extension": ".py",
   "mimetype": "text/x-python",
   "name": "python",
   "nbconvert_exporter": "python",
   "pygments_lexer": "ipython3",
   "version": "3.8.5"
  }
 },
 "nbformat": 4,
 "nbformat_minor": 4
}
