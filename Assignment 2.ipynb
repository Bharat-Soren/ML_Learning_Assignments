{
 "cells": [
  {
   "cell_type": "markdown",
   "metadata": {},
   "source": [
    "1. Create the below pattern using nested for loop in Python.\n",
    "    *\n",
    "    **\n",
    "    ***\n",
    "    ****\n",
    "    *****\n",
    "    ****\n",
    "    ***\n",
    "    **\n",
    "    *"
   ]
  },
  {
   "cell_type": "code",
   "execution_count": 27,
   "metadata": {},
   "outputs": [
    {
     "name": "stdout",
     "output_type": "stream",
     "text": [
      "Enter a Integer value for maximum stars in single line in this pattern.3\n",
      "*\n",
      "**\n",
      "***\n",
      "**\n",
      "*\n",
      "\n"
     ]
    }
   ],
   "source": [
    "stars = int(input(\"Enter a Integer value for maximum stars in single line in this pattern.\"))\n",
    "li=\"\";\n",
    "for i in range(stars):\n",
    "    li =\"*\"\n",
    "    for j in range(i):\n",
    "        li=li+\"*\"\n",
    "    print(li);\n",
    "    \n",
    "for r in range(stars,0,-1):\n",
    "    li=li[:-1];\n",
    "    print(li);\n"
   ]
  },
  {
   "cell_type": "markdown",
   "metadata": {},
   "source": [
    "2. Write a Python program to reverse a word after accepting the input from the user.\n",
    "Sample O/P:\n",
    "    Input word: ineuron\n",
    "    Output: norueni"
   ]
  },
  {
   "cell_type": "code",
   "execution_count": 37,
   "metadata": {},
   "outputs": [
    {
     "name": "stdout",
     "output_type": "stream",
     "text": [
      "Enter a Word: Bharat\n",
      "Original Word is: Bharat\n",
      "Reversed Word is: tarahB\n"
     ]
    }
   ],
   "source": [
    "word = input(\"Enter a Word: \");\n",
    "rword=\"\";\n",
    "for i in word:\n",
    "    rword = i + rword;\n",
    "\n",
    "print(\"Original Word is: {}\".format(word));\n",
    "print(\"Reversed Word is: {}\".format(rword));\n",
    "    \n",
    "    "
   ]
  }
 ],
 "metadata": {
  "kernelspec": {
   "display_name": "Python 3",
   "language": "python",
   "name": "python3"
  },
  "language_info": {
   "codemirror_mode": {
    "name": "ipython",
    "version": 3
   },
   "file_extension": ".py",
   "mimetype": "text/x-python",
   "name": "python",
   "nbconvert_exporter": "python",
   "pygments_lexer": "ipython3",
   "version": "3.8.5"
  }
 },
 "nbformat": 4,
 "nbformat_minor": 4
}
